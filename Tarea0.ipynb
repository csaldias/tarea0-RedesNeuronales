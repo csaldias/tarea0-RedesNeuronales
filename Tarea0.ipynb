{
 "cells": [
  {
   "cell_type": "markdown",
   "metadata": {},
   "source": [
    "<center>\n",
    " <h1> INF395 - Introducción a las Redes Neuronales Artificiales</h1>\n",
    "    <h2> Tarea 0</h2>\n",
    "</center>\n",
    "<b>Integrantes:</b>\n",
    "* Camilo Saldías González - 201223512-K - camilo.saldias.12@sansano.usm.cl\n",
    "* Felipe Vásquez Astudillo - 201473504-9 - felipe.vasquez.14@sansano.usm.cl"
   ]
  },
  {
   "cell_type": "markdown",
   "metadata": {},
   "source": [
    "# Tabla de contenido\n",
    "* [1.-Back-propagation (BP) from *Scratch*](#p1)\n",
    "* [2.-Comparar back-propagation (BP) de Keras](#p2)\n",
    "* [3.-Verificación numérica del gradiente para una componente](#p3)\n",
    "* [4.-Implementar momentum como variante](#p4)"
   ]
  },
  {
   "cell_type": "markdown",
   "metadata": {},
   "source": [
    "<div id='p1' />\n",
    "## 1. Back-propagation (BP) from *Scratch*\n",
    "\n",
    "Primero, se importan los paquetes relevantes."
   ]
  },
  {
   "cell_type": "code",
   "execution_count": 58,
   "metadata": {},
   "outputs": [],
   "source": [
    "# Package imports\n",
    "import matplotlib.pyplot as plt\n",
    "import numpy as np\n",
    "import sklearn\n",
    "import sklearn.datasets\n",
    "import sklearn.linear_model\n",
    "import matplotlib\n",
    "from timeit import default_timer as timer\n",
    "\n",
    "# Display plots inline and change default figure size\n",
    "%matplotlib inline\n",
    "matplotlib.rcParams['figure.figsize'] = (14.0, 12.0)\n",
    "np.set_printoptions(suppress=True)"
   ]
  },
  {
   "cell_type": "markdown",
   "metadata": {},
   "source": [
    "Variables de inicialización son definidas, para establecer el número de neuronas, dimension del input, del output y constantes de aprendizaje."
   ]
  },
  {
   "cell_type": "code",
   "execution_count": 8,
   "metadata": {},
   "outputs": [],
   "source": [
    "nn_input_dim = 4 # Dimensionalidad de capa de entrada\n",
    "nn_output_dim = 3 # Dimensionalidad de capa de salida\n",
    "nn_hidden1_dim = 32 #Dimensionalidad de capa 1\n",
    "nn_hidden2_dim = 16 #Dimensionalidad de capa 2\n",
    "epsilon = 0.01 # Tasa de aprendizaje de la red"
   ]
  },
  {
   "cell_type": "markdown",
   "metadata": {},
   "source": [
    "Dado que hay que calcular el costo por cada iteración de la red neuronal, es necesario definir una función que reciba como parámetro el estado actual de la red."
   ]
  },
  {
   "cell_type": "code",
   "execution_count": 27,
   "metadata": {},
   "outputs": [],
   "source": [
    "def calculate_loss_cco(model, X, y, act_function):\n",
    "    W1, b1, W2, b2, W3, b3 = model['W1'], model['b1'], model['W2'], model['b2'], model['W3'], model['b3']\n",
    "    \n",
    "    in1 = X.dot(W1) + b1\n",
    "    out1 = ReLU(in1) if act_function == 'relu' else Sigmoid(in1) #ReLU o Sigmoid\n",
    "    in2 = out1.dot(W2) + b2\n",
    "    out2 = ReLU(in2) if act_function == 'relu' else Sigmoid(in2) #ReLU o Sigmoid\n",
    "    in3 = out2.dot(W3) + b3\n",
    "    exp_scores = np.exp(in3)\n",
    "    probs = exp_scores / np.sum(exp_scores, axis=1, keepdims=True) #softmax\n",
    "    \n",
    "    corect_logprobs = -1.0 * y * np.log(probs)\n",
    "    data_loss = np.sum(corect_logprobs)\n",
    "    return 1./X.shape[0] * data_loss"
   ]
  },
  {
   "cell_type": "code",
   "execution_count": 28,
   "metadata": {},
   "outputs": [],
   "source": [
    "def calculate_loss_mse(model, X, y, act_function):\n",
    "    W1, b1, W2, b2, W3, b3 = model['W1'], model['b1'], model['W2'], model['b2'], model['W3'], model['b3']\n",
    "    \n",
    "    in1 = X.dot(W1) + b1\n",
    "    out1 = ReLU(in1) if act_function == 'relu' else Sigmoid(in1) #ReLU o Sigmoid\n",
    "    in2 = out1.dot(W2) + b2\n",
    "    out2 = ReLU(in2) if act_function == 'relu' else Sigmoid(in2) #ReLU o Sigmoid\n",
    "    in3 = out2.dot(W3) + b3\n",
    "    exp_scores = np.exp(in3)\n",
    "    probs = exp_scores / np.sum(exp_scores, axis=1, keepdims=True) #softmax\n",
    "    \n",
    "    corect_logprobs = np.square(y - probs)\n",
    "    data_loss = np.sum(corect_logprobs)\n",
    "    \n",
    "    return 1./X.shape[0] * data_loss"
   ]
  },
  {
   "cell_type": "markdown",
   "metadata": {},
   "source": [
    "Dado que el método SGD requiere que se trabaje con un orden aleatorio del set de entrenamiento, creamos una función que se encargue de entregar el set de entrenamiento en un orden aleatorio."
   ]
  },
  {
   "cell_type": "code",
   "execution_count": 29,
   "metadata": {},
   "outputs": [],
   "source": [
    "def shuffle_dataset(X, y):\n",
    "    combined_dataset = np.concatenate((X_train, y_onehot), axis=1)\n",
    "    np.random.shuffle(combined_dataset)\n",
    "    x_shuffled, y_shuffled = np.hsplit(combined_dataset, [4])\n",
    "    return (x_shuffled, y_shuffled)"
   ]
  },
  {
   "cell_type": "markdown",
   "metadata": {},
   "source": [
    "La siguiente función también evalúa la red neuronal, pero en lugar de calcular el costo, obtiene los puntajes de clasificación y retorna las probabilidades asociadas."
   ]
  },
  {
   "cell_type": "code",
   "execution_count": 69,
   "metadata": {},
   "outputs": [],
   "source": [
    "def predict(model, X, act_function):\n",
    "    W1, b1, W2, b2, W3, b3 = model['W1'], model['b1'], model['W2'], model['b2'], model['W3'], model['b3']\n",
    "    in1 = X.dot(W1) + b1\n",
    "    out1 = ReLU(in1) if act_function == 'relu' else Sigmoid(in1) #ReLU o Sigmoid\n",
    "    in2 = out1.dot(W2) + b2\n",
    "    out2 = ReLU(in2) if act_function == 'relu' else Sigmoid(in2) #ReLU o Sigmoid\n",
    "    in3 = out2.dot(W3) + b3\n",
    "    exp_scores = np.exp(in3)\n",
    "    probs = exp_scores / np.sum(exp_scores, axis=1, keepdims=True) #Softmax\n",
    "    return probs"
   ]
  },
  {
   "cell_type": "markdown",
   "metadata": {},
   "source": [
    "Funciones de activación a utilizar son definidas, es decir la logística y ReLU, al igual que sus respectivas derivadas."
   ]
  },
  {
   "cell_type": "code",
   "execution_count": 63,
   "metadata": {},
   "outputs": [],
   "source": [
    "def ReLU(val):\n",
    "    return np.maximum(0, val)\n",
    "def BP_ReLU(val):\n",
    "    return (val > 0).astype(int)"
   ]
  },
  {
   "cell_type": "code",
   "execution_count": 64,
   "metadata": {},
   "outputs": [],
   "source": [
    "def Sigmoid(val):\n",
    "    return 1.0 / (1.0 + np.exp(-1.0 * val))\n",
    "def BP_Sigmoid(val):\n",
    "    return (1 - Sigmoid(val)) * Sigmoid(val)"
   ]
  },
  {
   "cell_type": "markdown",
   "metadata": {},
   "source": [
    "Por último, a continuación se presenta la rutina principal, que hace uso de las funciones anteriores e itera un número definido de veces."
   ]
  },
  {
   "cell_type": "code",
   "execution_count": 33,
   "metadata": {},
   "outputs": [],
   "source": [
    "# - num_epoch: Numero de ciclos (epochs) para entrenamiento de la red\n",
    "# - print_loss: Logear los datos de error de clasificación y función de pérdida\n",
    "# - loss_function: Seleccionar la función de pérdida a utilizar\n",
    "#                  Categorical Cross-Entropy (cco) o Mean Squared Error (mse)\n",
    "# - act_function: Seleccionar la función de activación a utilizar\n",
    "#                 ReLU (relu) or Sigmoid (sigmoid)\n",
    "def build_model(X, y, num_epoch=200, print_loss=False, loss_function = \"cco\", act_function = \"relu\"):\n",
    "    \n",
    "    # Inicializar los parámetros de la red a valores aleatorios.\n",
    "    np.random.seed(0)\n",
    "    W1 = np.random.randn(nn_input_dim, nn_hidden1_dim) / np.sqrt(nn_input_dim)\n",
    "    b1 = np.zeros((1, nn_hidden1_dim))\n",
    "    W2 = np.random.randn(nn_hidden1_dim, nn_hidden2_dim) / np.sqrt(nn_hidden1_dim)\n",
    "    b2 = np.zeros((1, nn_hidden2_dim))\n",
    "    W3 = np.random.randn(nn_hidden2_dim, nn_output_dim) / np.sqrt(nn_hidden2_dim)\n",
    "    b3 = np.zeros((1, nn_output_dim))\n",
    "\n",
    "    # Esto es lo que retornaremos al final.\n",
    "    model = {}\n",
    "    it_data = []\n",
    "    \n",
    "    # Usamos SGD para el entrenamiento. Para cada epoch...\n",
    "    for i in range(0, num_epoch):\n",
    "        # Reordenamos aleatoriamente el dataset\n",
    "        x_shuffled, y_shuffled = shuffle_dataset(X, y)\n",
    "        \n",
    "        epoch_loss = []\n",
    "        correct_guesses = 0\n",
    "        \n",
    "        #...E iteramos sobre cada ejemplo, 1 a la vez\n",
    "        for j in range(x_shuffled.shape[0]):\n",
    "            x_example = x_shuffled[j].reshape((1,4)) #reshape() para que sea tratada como \"matriz\"\n",
    "            y_example = y_shuffled[j]                #y no como un vector ((4,1) en lugar de (4,))\n",
    "            \n",
    "            # Feed-Forward\n",
    "            in1 = x_example.dot(W1) + b1\n",
    "            out1 = ReLU(in1) if act_function == 'relu' else Sigmoid(in1) #ReLU o Sigmoid\n",
    "            in2 = out1.dot(W2) + b2\n",
    "            out2 = ReLU(in2) if act_function == 'relu' else Sigmoid(in2) #ReLU o Sigmoid\n",
    "            in3 = out2.dot(W3) + b3\n",
    "            exp_scores = np.exp(in3)\n",
    "            probs = exp_scores / np.sum(exp_scores, axis=1, keepdims=True) #Softmax\n",
    "\n",
    "            # Back-Propagation\n",
    "            delta4 = probs - y_example\n",
    "            dW3 = np.dot(out2.T, delta4)\n",
    "            db3 = np.sum(delta4, axis=0, keepdims=True)\n",
    "            delta3 = delta4.dot(W3.T) * (BP_ReLU(out2) if act_function == 'relu' else BP_Sigmoid(out2)) #ReLU o Sigmoid\n",
    "            dW2 = np.dot(out1.T, delta3)\n",
    "            db2 = np.sum(delta3, axis=0, keepdims=True)\n",
    "            delta2 = delta3.dot(W2.T) * (BP_ReLU(out1) if act_function == 'relu' else BP_Sigmoid(out1)) #ReLU o Sigmoid\n",
    "            dW1 = np.dot(x_example.T, delta2)\n",
    "            db1 = np.sum(delta2, axis=0)\n",
    "\n",
    "            # Asignamos los parámetros del modelo hasta el momento, antes de aplicar SGD\n",
    "            model = { 'W1': W1, 'b1': b1, 'W2': W2, 'b2': b2, 'W3': W3, 'b3': b3}\n",
    "\n",
    "            #Cálculo del error (CCO or MSE)\n",
    "            loss = calculate_loss_cco(model, x_example, y_example, act_function) if loss_function == 'cco' else calculate_loss_mse(model, x_example, y_example, act_function)\n",
    "            epoch_loss.append(loss)\n",
    "            \n",
    "            #Error de clasificación (): número de predicciones correctas / número de ejemplos\n",
    "            if np.argmax(probs) == np.argmax(y_example): correct_guesses += 1\n",
    "                        \n",
    "            #Actualizamos los parámetros de nuestra red\n",
    "            W1 += -epsilon * dW1 * loss\n",
    "            b1 += -epsilon * db1 * loss\n",
    "            W2 += -epsilon * dW2 * loss\n",
    "            b2 += -epsilon * db2 * loss\n",
    "            W3 += -epsilon * dW3 * loss\n",
    "            b3 += -epsilon * db3 * loss\n",
    "\n",
    "            # Asignamos los parámetros del modelo luego de ser actualizados\n",
    "            model = { 'W1': W1, 'b1': b1, 'W2': W2, 'b2': b2, 'W3': W3, 'b3': b3}\n",
    "        \n",
    "        # Opcionalmente, logeamos error (loss) y error de clasificación (accuracy)\n",
    "        if print_loss:\n",
    "            total_loss = np.average(epoch_loss)\n",
    "            total_accuracy = correct_guesses / x_shuffled.shape[0]\n",
    "            it_data.append( (i, total_loss, total_accuracy) )\n",
    "    \n",
    "    return (model, it_data)"
   ]
  },
  {
   "cell_type": "markdown",
   "metadata": {},
   "source": [
    "De la librería **sklearn** se obtiene el set de datos a evaluar."
   ]
  },
  {
   "cell_type": "code",
   "execution_count": 34,
   "metadata": {},
   "outputs": [],
   "source": [
    "from sklearn.preprocessing import StandardScaler\n",
    "from sklearn.datasets import load_iris\n",
    "X_train,y_train = load_iris(return_X_y=True)\n",
    "scaler = StandardScaler().fit(X_train)\n",
    "X_train = scaler.transform(X_train)\n",
    "#transform target to one hot vector\n",
    "import keras\n",
    "y_onehot = keras.utils.to_categorical(y_train)\n",
    "num_examples = len(X_train)"
   ]
  },
  {
   "cell_type": "markdown",
   "metadata": {},
   "source": [
    "Con las funciones anteriores, se procede a generar el modelo de la red neuronal y luego se evalúa el set de datos para un número determinado de iteraciones.\n",
    "\n",
    "Este proceso es ilustrado en un gráfico de pérdida en función de las iteraciones, para cada una de las posibles combinaciones de función de error / función de activación."
   ]
  },
  {
   "cell_type": "code",
   "execution_count": 60,
   "metadata": {},
   "outputs": [
    {
     "name": "stdout",
     "output_type": "stream",
     "text": [
      "Tiempo de ejecución para CCO/ReLU: 5.039445997681469 seg\n",
      "Tiempo de ejecución para CCO/Sigmoid: 6.1112396898679435 seg\n",
      "Tiempo de ejecución para MSE/ReLU: 4.970167500898242 seg\n",
      "Tiempo de ejecución para MSE/Sigmoid: 6.05191065184772 seg\n"
     ]
    },
    {
     "data": {
      "image/png": "[encoded data removed]",
      "text/plain": [
       "<matplotlib.figure.Figure at 0x7ff5f1c39780>"
      ]
     },
     "metadata": {},
     "output_type": "display_data"
    }
   ],
   "source": [
    "# Modelo 1: CCO / ReLU\n",
    "start = timer()\n",
    "model_1, iteration_data_1 = build_model(X_train, y_onehot.astype(int), 100, True, \"cco\", \"relu\")\n",
    "end = timer()\n",
    "epoch_1, loss_1, accuracy_1 = zip(*iteration_data_1)\n",
    "print(\"Tiempo de ejecución para CCO/ReLU: {} seg\".format(end - start))\n",
    "\n",
    "#Modelo 2: CCO / Sigmoid\n",
    "start = timer()\n",
    "model_2, iteration_data_2 = build_model(X_train, y_onehot.astype(int), 100, True, \"cco\", \"sigmoid\")\n",
    "end = timer()\n",
    "epoch_2, loss_2, accuracy_2 = zip(*iteration_data_2)\n",
    "print(\"Tiempo de ejecución para CCO/Sigmoid: {} seg\".format(end - start))\n",
    "\n",
    "#Modelo 3: MSE / ReLU\n",
    "start = timer()\n",
    "model_3, iteration_data_3 = build_model(X_train, y_onehot.astype(int), 100, True, \"mse\", \"relu\")\n",
    "end = timer()\n",
    "epoch_3, loss_3, accuracy_3 = zip(*iteration_data_3)\n",
    "print(\"Tiempo de ejecución para MSE/ReLU: {} seg\".format(end - start))\n",
    "\n",
    "#Modelo 2: MSE / Sigmoid\n",
    "start = timer()\n",
    "model_4, iteration_data_4 = build_model(X_train, y_onehot.astype(int), 100, True, \"mse\", \"sigmoid\")\n",
    "end = timer()\n",
    "epoch_4, loss_4, accuracy_4 = zip(*iteration_data_4)\n",
    "print(\"Tiempo de ejecución para MSE/Sigmoid: {} seg\".format(end - start))\n",
    "\n",
    "plt.subplot(221)\n",
    "plt.plot(epoch_1, loss_1, label=\"Loss\")\n",
    "plt.plot(epoch_1, accuracy_1, label=\"Accuracy\")\n",
    "plt.legend(bbox_to_anchor=(1.05, 1), loc=2, borderaxespad=0.)\n",
    "plt.gca().set_title('CCO/ReLU')\n",
    "plt.subplot(222)\n",
    "plt.plot(epoch_2, loss_2, label=\"Loss\")\n",
    "plt.plot(epoch_2, accuracy_2, label=\"Accuracy\")\n",
    "plt.legend(bbox_to_anchor=(1.05, 1), loc=2, borderaxespad=0.)\n",
    "plt.gca().set_title('CCO/Sigmoid')\n",
    "plt.subplot(223)\n",
    "plt.plot(epoch_3, loss_3, label=\"Loss\")\n",
    "plt.plot(epoch_3, accuracy_3, label=\"Accuracy\")\n",
    "plt.legend(bbox_to_anchor=(1.05, 1), loc=2, borderaxespad=0.)\n",
    "plt.gca().set_title('MSE/ReLU')\n",
    "plt.subplot(224)\n",
    "plt.plot(epoch_4, loss_4, label=\"Loss\")\n",
    "plt.plot(epoch_4, accuracy_4, label=\"Accuracy\")\n",
    "plt.legend(bbox_to_anchor=(1.05, 1), loc=2, borderaxespad=0.)\n",
    "plt.gca().set_title('MSE/Sigmoid')\n",
    "plt.show()"
   ]
  },
  {
   "cell_type": "markdown",
   "metadata": {},
   "source": [
    "Finalmente, para la configuración CCO/ReLU, creamos la matriz de confusión utilizando la librería *sklearn*:"
   ]
  },
  {
   "cell_type": "code",
   "execution_count": 77,
   "metadata": {},
   "outputs": [
    {
     "data": {
      "text/plain": [
       "array([[50,  0,  0],\n",
       "       [ 0, 46,  4],\n",
       "       [ 0,  0, 50]])"
      ]
     },
     "execution_count": 77,
     "metadata": {},
     "output_type": "execute_result"
    }
   ],
   "source": [
    "y_predicted = predict(model_1, X_train, \"relu\")\n",
    "sklearn.metrics.confusion_matrix(y_train, np.argmax(y_predicted, axis=1))"
   ]
  },
  {
   "cell_type": "markdown",
   "metadata": {},
   "source": [
    "<div id='p2' />\n",
    "## 2.- Comparar back-propagation (BP) de Keras\n",
    "\n"
   ]
  },
  {
   "cell_type": "markdown",
   "metadata": {},
   "source": [
    "Se procede a generar el modelo utilizando los pasos indicados por el enunciado. En primera instancia, se utiliza el modelo con función de costo _categorical cross-entropy_."
   ]
  },
  {
   "cell_type": "code",
   "execution_count": 45,
   "metadata": {},
   "outputs": [],
   "source": [
    "from keras.models import Sequential\n",
    "from keras.layers.core import Dense\n",
    "model = Sequential()\n",
    "model.add(Dense(32, input_dim=X_train.shape[1], activation=\"sigmoid\"))\n",
    "model.add(Dense(16, activation=\"sigmoid\"))\n",
    "model.add(Dense(3, activation=\"softmax\"))"
   ]
  },
  {
   "cell_type": "code",
   "execution_count": 46,
   "metadata": {},
   "outputs": [],
   "source": [
    "from keras.optimizers import SGD\n",
    "model.compile(optimizer=SGD(lr=0.1),loss=\"categorical_crossentropy\", metrics=[\"accuracy\"])"
   ]
  },
  {
   "cell_type": "markdown",
   "metadata": {},
   "source": [
    "Se entrena el modelo, guardando la información de las iteraciones."
   ]
  },
  {
   "cell_type": "code",
   "execution_count": 47,
   "metadata": {},
   "outputs": [],
   "source": [
    "history=model.fit(X_train, y_onehot, epochs=100, batch_size=1, verbose=0)"
   ]
  },
  {
   "cell_type": "markdown",
   "metadata": {},
   "source": [
    "Luego son comparados ambos modelos, el compilado en la primera pregunta y el recién generado."
   ]
  },
  {
   "cell_type": "code",
   "execution_count": 48,
   "metadata": {
    "scrolled": true
   },
   "outputs": [
    {
     "data": {
      "text/plain": [
       "[]"
      ]
     },
     "execution_count": 48,
     "metadata": {},
     "output_type": "execute_result"
    },
    {
     "data": {
      "image/png": "[encoded data removed]",
      "text/plain": [
       "<matplotlib.figure.Figure at 0x7ff5fa21a3c8>"
      ]
     },
     "metadata": {},
     "output_type": "display_data"
    }
   ],
   "source": [
    "linea1,=plt.plot(epoch,history.history[\"loss\"],label='Keras')\n",
    "linea2,=plt.plot(epoch,loss,label='From Scratch')\n",
    "plt.xlabel(\"Epoch\")\n",
    "plt.ylabel(\"Costo\")\n",
    "plt.title(\"Comparacion \")\n",
    "plt.legend(handles=[linea1,linea2])\n",
    "plt.plot()"
   ]
  },
  {
   "cell_type": "markdown",
   "metadata": {},
   "source": [
    "Lo mismo se repite para la función de pérdida _Mean Squared Error_."
   ]
  },
  {
   "cell_type": "code",
   "execution_count": 49,
   "metadata": {},
   "outputs": [],
   "source": [
    "model2 = Sequential()\n",
    "model2.add(Dense(32, input_dim=X_train.shape[1], activation=\"sigmoid\"))\n",
    "model2.add(Dense(16, activation=\"sigmoid\"))\n",
    "model2.add(Dense(3, activation=\"softmax\"))\n",
    "model2.compile(optimizer=SGD(lr=0.1),loss=\"mse\", metrics=[\"accuracy\"])\n",
    "history=model2.fit(X_train, y_onehot, epochs=100, batch_size=1, verbose=0)"
   ]
  },
  {
   "cell_type": "markdown",
   "metadata": {},
   "source": [
    "Entonces se grafican los resultados."
   ]
  },
  {
   "cell_type": "code",
   "execution_count": 50,
   "metadata": {},
   "outputs": [
    {
     "data": {
      "text/plain": [
       "[]"
      ]
     },
     "execution_count": 50,
     "metadata": {},
     "output_type": "execute_result"
    },
    {
     "data": {
      "image/png": "[encoded data removed]",
      "text/plain": [
       "<matplotlib.figure.Figure at 0x7ff5fa2726d8>"
      ]
     },
     "metadata": {},
     "output_type": "display_data"
    }
   ],
   "source": [
    "linea1,=plt.plot(epoch,history.history[\"loss\"],label='Keras')\n",
    "linea2,=plt.plot(epoch,loss,label='From Scratch')\n",
    "plt.xlabel(\"Epoch\")\n",
    "plt.ylabel(\"Costo\")\n",
    "plt.title(\"Comparacion \")\n",
    "plt.legend(handles=[linea1,linea2])\n",
    "plt.plot()"
   ]
  },
  {
   "cell_type": "markdown",
   "metadata": {},
   "source": [
    "<div id='p3' />\n",
    "# 3.- Verificación numérica del gradiente para una componente"
   ]
  },
  {
   "cell_type": "markdown",
   "metadata": {},
   "source": [
    "Primero se geneneran dos números aleatorios, el primero correspondiente a la neurona de la capa de entrada, y el segundo a la neurona del primer nivel escondido."
   ]
  },
  {
   "cell_type": "code",
   "execution_count": 52,
   "metadata": {},
   "outputs": [
    {
     "name": "stdout",
     "output_type": "stream",
     "text": [
      "2 28\n"
     ]
    }
   ],
   "source": [
    "inputRand=np.random.randint(4)\n",
    "pesoRand=np.random.randint(32)\n",
    "print(inputRand,pesoRand)"
   ]
  },
  {
   "cell_type": "markdown",
   "metadata": {},
   "source": [
    "El valor para un peso entre la primera y segunda capa buscado es: \n",
    "$$\\frac{ \\partial Loss}{\\partial w_1}$$ \n",
    "\n",
    "Este es calculado en el paso de backpropagation, denotado por la llave _dW1_ en la variable _grad_, conteniendo la gradiente."
   ]
  },
  {
   "cell_type": "code",
   "execution_count": 53,
   "metadata": {},
   "outputs": [
    {
     "ename": "NameError",
     "evalue": "name 'grad' is not defined",
     "output_type": "error",
     "traceback": [
      "\u001b[0;31m---------------------------------------------------------------------------\u001b[0m",
      "\u001b[0;31mNameError\u001b[0m                                 Traceback (most recent call last)",
      "\u001b[0;32m<ipython-input-53-275d040f9a4a>\u001b[0m in \u001b[0;36m<module>\u001b[0;34m()\u001b[0m\n\u001b[0;32m----> 1\u001b[0;31m \u001b[0mprint\u001b[0m\u001b[0;34m(\u001b[0m\u001b[0mgrad\u001b[0m\u001b[0;34m[\u001b[0m\u001b[0;34m\"dW1\"\u001b[0m\u001b[0;34m]\u001b[0m\u001b[0;34m[\u001b[0m\u001b[0minputRand\u001b[0m\u001b[0;34m]\u001b[0m\u001b[0;34m[\u001b[0m\u001b[0mpesoRand\u001b[0m\u001b[0;34m]\u001b[0m\u001b[0;34m)\u001b[0m\u001b[0;34m\u001b[0m\u001b[0m\n\u001b[0m",
      "\u001b[0;31mNameError\u001b[0m: name 'grad' is not defined"
     ]
    }
   ],
   "source": [
    "print(grad[\"dW1\"][inputRand][pesoRand])"
   ]
  },
  {
   "cell_type": "markdown",
   "metadata": {},
   "source": []
  },
  {
   "cell_type": "code",
   "execution_count": 54,
   "metadata": {
    "scrolled": true
   },
   "outputs": [
    {
     "ename": "NameError",
     "evalue": "name 'modelo' is not defined",
     "output_type": "error",
     "traceback": [
      "\u001b[0;31m---------------------------------------------------------------------------\u001b[0m",
      "\u001b[0;31mNameError\u001b[0m                                 Traceback (most recent call last)",
      "\u001b[0;32m<ipython-input-54-c58b02a20d35>\u001b[0m in \u001b[0;36m<module>\u001b[0;34m()\u001b[0m\n\u001b[0;32m----> 1\u001b[0;31m \u001b[0mprint\u001b[0m\u001b[0;34m(\u001b[0m\u001b[0mmodelo\u001b[0m\u001b[0;34m[\u001b[0m\u001b[0;34m\"W1\"\u001b[0m\u001b[0;34m]\u001b[0m\u001b[0;34m[\u001b[0m\u001b[0minputRand\u001b[0m\u001b[0;34m]\u001b[0m\u001b[0;34m[\u001b[0m\u001b[0mpesoRand\u001b[0m\u001b[0;34m]\u001b[0m\u001b[0;34m)\u001b[0m\u001b[0;34m\u001b[0m\u001b[0m\n\u001b[0m\u001b[1;32m      2\u001b[0m \u001b[0mepsilon\u001b[0m\u001b[0;34m=\u001b[0m\u001b[0;36m10\u001b[0m\u001b[0;34m**\u001b[0m\u001b[0;34m-\u001b[0m\u001b[0;36m6\u001b[0m\u001b[0;34m\u001b[0m\u001b[0m\n\u001b[1;32m      3\u001b[0m \u001b[0mpeso\u001b[0m\u001b[0;34m=\u001b[0m\u001b[0mmodelo\u001b[0m\u001b[0;34m[\u001b[0m\u001b[0;34m\"W1\"\u001b[0m\u001b[0;34m]\u001b[0m\u001b[0;34m[\u001b[0m\u001b[0minputRand\u001b[0m\u001b[0;34m]\u001b[0m\u001b[0;34m[\u001b[0m\u001b[0mpesoRand\u001b[0m\u001b[0;34m]\u001b[0m\u001b[0;34m\u001b[0m\u001b[0m\n\u001b[1;32m      4\u001b[0m \u001b[0;31m#Funcion de costo???\u001b[0m\u001b[0;34m\u001b[0m\u001b[0;34m\u001b[0m\u001b[0m\n\u001b[1;32m      5\u001b[0m \u001b[0;31m#print((func(peso+epsilon)-func(peso))/epsilon)\u001b[0m\u001b[0;34m\u001b[0m\u001b[0;34m\u001b[0m\u001b[0m\n",
      "\u001b[0;31mNameError\u001b[0m: name 'modelo' is not defined"
     ]
    }
   ],
   "source": [
    "print(modelo[\"W1\"][inputRand][pesoRand])\n",
    "epsilon=10**-6\n",
    "peso=modelo[\"W1\"][inputRand][pesoRand]\n",
    "#Funcion de costo???\n",
    "#print((func(peso+epsilon)-func(peso))/epsilon)"
   ]
  },
  {
   "cell_type": "code",
   "execution_count": 60,
   "metadata": {},
   "outputs": [
    {
     "data": {
      "text/plain": [
       "0.28531837863884435"
      ]
     },
     "execution_count": 60,
     "metadata": {},
     "output_type": "execute_result"
    }
   ],
   "source": [
    "calculate_loss(modelo,X_train, y_onehot.astype(int))"
   ]
  },
  {
   "cell_type": "code",
   "execution_count": 61,
   "metadata": {},
   "outputs": [],
   "source": [
    "modelo_prima={ 'W1': modelo[\"W1\"]+epsilon, 'b1': modelo[\"b1\"], 'W2': modelo[\"W2\"]+epsilon, 'b2': modelo[\"b2\"], 'W3': modelo[\"W3\"]+epsilon, 'b3': modelo[\"b3\"]}"
   ]
  },
  {
   "cell_type": "code",
   "execution_count": 62,
   "metadata": {},
   "outputs": [
    {
     "data": {
      "text/plain": [
       "-1.996311060792344"
      ]
     },
     "execution_count": 62,
     "metadata": {},
     "output_type": "execute_result"
    }
   ],
   "source": [
    "(calculate_loss(modelo_prima,X_train, y_onehot.astype(int))-calculate_loss(modelo,X_train, y_onehot.astype(int)))/epsilon"
   ]
  },
  {
   "cell_type": "markdown",
   "metadata": {},
   "source": [
    "<div id='p4' />\n",
    "# 4.- Implementar momentum como variante"
   ]
  },
  {
   "cell_type": "code",
   "execution_count": null,
   "metadata": {},
   "outputs": [],
   "source": []
  }
 ],
 "metadata": {
  "kernelspec": {
   "display_name": "Python 3",
   "language": "python",
   "name": "python3"
  },
  "language_info": {
   "codemirror_mode": {
    "name": "ipython",
    "version": 3
   },
   "file_extension": ".py",
   "mimetype": "text/x-python",
   "name": "python",
   "nbconvert_exporter": "python",
   "pygments_lexer": "ipython3",
   "version": "3.6.4"
  }
 },
 "nbformat": 4,
 "nbformat_minor": 2
}
